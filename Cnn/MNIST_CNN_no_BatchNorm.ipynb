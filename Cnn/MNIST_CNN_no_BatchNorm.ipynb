{
 "cells": [
  {
   "cell_type": "code",
   "execution_count": 1,
   "id": "e8d95e88-f818-4197-92cd-e6544755e630",
   "metadata": {},
   "outputs": [],
   "source": [
    "import torch\n",
    "import torch.nn as nn\n",
    "import torch.nn.functional as F\n",
    "import torchvision.datasets as datasets\n",
    "import torchvision.transforms as transforms"
   ]
  },
  {
   "cell_type": "code",
   "execution_count": 2,
   "id": "a4e7552c-85bc-4666-9573-99d6d289696c",
   "metadata": {},
   "outputs": [],
   "source": [
    "device = 'cuda' if torch.cuda.is_available() else 'cpu'\n",
    "\n",
    "# 랜덤 시드 고정\n",
    "torch.manual_seed(1)\n",
    "\n",
    "# GPU 사용 가능일 경우 랜덤 시드 고정\n",
    "if device == 'cuda':\n",
    "    torch.cuda.manual_seed_all(1)"
   ]
  },
  {
   "cell_type": "code",
   "execution_count": 3,
   "id": "b327a394-86ae-44b4-a7b7-6edf85c28124",
   "metadata": {},
   "outputs": [],
   "source": [
    "learning_rate = 0.001\n",
    "epochs = 15\n",
    "batch_size = 128"
   ]
  },
  {
   "cell_type": "code",
   "execution_count": 4,
   "id": "d92513e3-4aac-48a7-9dab-52cabe025c3a",
   "metadata": {},
   "outputs": [],
   "source": [
    "train_data = datasets.MNIST('MNIST', train = True, transform = transforms.ToTensor(), download = True)\n",
    "\n",
    "test_data = datasets.MNIST('MNIST', train = False, transform = transforms.ToTensor(), download = True)"
   ]
  },
  {
   "cell_type": "code",
   "execution_count": 5,
   "id": "8a845461-db8e-4b79-8f17-098aa6934c44",
   "metadata": {},
   "outputs": [],
   "source": [
    "data_loader = torch.utils.data.DataLoader(dataset = train_data,\n",
    "                                          batch_size = batch_size,\n",
    "                                          shuffle = True,\n",
    "                                          drop_last = True)"
   ]
  },
  {
   "cell_type": "code",
   "execution_count": 17,
   "id": "36965388-1841-4d3b-939b-9a7ade781770",
   "metadata": {},
   "outputs": [],
   "source": [
    "class CNN1(torch.nn.Module):\n",
    "    def __init__(self):\n",
    "        super().__init__()\n",
    "        \n",
    "        self.layer1 = nn.Sequential(\n",
    "            nn.Conv2d(1, 32, 3, 1, 1),\n",
    "            # nn.BatchNorm2d(32),\n",
    "            nn.ReLU(),\n",
    "            nn.MaxPool2d(2, 2)\n",
    "        )\n",
    "        \n",
    "        self.layer2 = nn.Sequential(\n",
    "            nn.Conv2d(32, 64, 3, 1, 1),\n",
    "            # nn.BatchNorm2d(64),\n",
    "            nn.ReLU(),\n",
    "            nn.MaxPool2d(2, 2)\n",
    "        )\n",
    "        \n",
    "#         self.layer3 = nn.Sequential(\n",
    "#             nn.Conv2d(64, 128, 3, 1, 1),\n",
    "#             nn.BatchNorm2d(128),\n",
    "#             nn.ReLU(),\n",
    "#             nn.MaxPool2d(2, 2)\n",
    "#         )\n",
    "        \n",
    "        # self.layer4 = nn.Sequential(\n",
    "        #     nn.Conv2d(128, 128, 3, 1, 1),\n",
    "        #     nn.BatchNorm2d(128),\n",
    "        #     nn.ReLU(),\n",
    "        #     nn.MaxPool2d(2, 2)\n",
    "        # )\n",
    "        \n",
    "        self.fc = nn.Linear(576, 10)\n",
    "        \n",
    "    def forward(self, x):\n",
    "        out = self.layer1(x)\n",
    "        out = self.layer2(out)\n",
    "        # out = self.layer3(out)\n",
    "        # out = self.layer4(out)\n",
    "        out = nn.Flatten()(out)\n",
    "        out = self.fc(out)\n",
    "        \n",
    "        return out"
   ]
  },
  {
   "cell_type": "code",
   "execution_count": 18,
   "id": "8cd24c3c-836d-4def-a2cc-04a9d2041284",
   "metadata": {},
   "outputs": [],
   "source": [
    "model = CNN1().to(device)"
   ]
  },
  {
   "cell_type": "code",
   "execution_count": 19,
   "id": "5b723a5a-4a71-4ed7-9824-e83aeb9eb250",
   "metadata": {},
   "outputs": [],
   "source": [
    "criterion = torch.nn.CrossEntropyLoss().to(device) \n",
    "optimizer = torch.optim.Adam(model.parameters(), lr = learning_rate)"
   ]
  },
  {
   "cell_type": "code",
   "execution_count": 20,
   "id": "387553bd-a2d4-4428-8da6-2d7953d4d206",
   "metadata": {},
   "outputs": [
    {
     "name": "stdout",
     "output_type": "stream",
     "text": [
      "총 배치의 수 : 468\n"
     ]
    }
   ],
   "source": [
    "total_batch = len(data_loader)\n",
    "print('총 배치의 수 : {}'.format(total_batch))"
   ]
  },
  {
   "cell_type": "code",
   "execution_count": 21,
   "id": "ac8e3777-e2bf-41cf-82f8-184679b7c4a5",
   "metadata": {},
   "outputs": [
    {
     "name": "stdout",
     "output_type": "stream",
     "text": [
      "[Epoch:   1] cost = 0.0985307321\n",
      "[Epoch:   2] cost = 0.0301747546\n",
      "[Epoch:   3] cost = 0.0187947787\n",
      "[Epoch:   4] cost = 0.0138095198\n",
      "[Epoch:   5] cost = 0.0112091508\n",
      "[Epoch:   6] cost = 0.00794023741\n",
      "[Epoch:   7] cost = 0.00489983894\n",
      "[Epoch:   8] cost = 0.00609269878\n",
      "[Epoch:   9] cost = 0.00842041895\n",
      "[Epoch:  10] cost = 0.00463616336\n",
      "[Epoch:  11] cost = 0.00331342872\n",
      "[Epoch:  12] cost = 0.00390114472\n",
      "[Epoch:  13] cost = 0.00454401458\n",
      "[Epoch:  14] cost = 0.00412646448\n",
      "[Epoch:  15] cost = 0.00415493315\n"
     ]
    }
   ],
   "source": [
    "for epoch in range(epochs):\n",
    "    avg_cost = 0\n",
    "\n",
    "    for X, Y in data_loader: # 미니 배치 단위로 꺼내온다. X는 미니 배치, Y느 ㄴ레이블.\n",
    "        # image is already size of (28x28), no reshape\n",
    "        # label is not one-hot encoded\n",
    "        X = X.to(device)\n",
    "        Y = Y.to(device)\n",
    "\n",
    "        optimizer.zero_grad()\n",
    "        hypothesis = model(X)\n",
    "        cost = criterion(hypothesis, Y)\n",
    "        cost.backward()\n",
    "        optimizer.step()\n",
    "\n",
    "        avg_cost += cost / total_batch\n",
    "\n",
    "    print('[Epoch:{:>4}] cost = {:>.9}'.format(epoch + 1, avg_cost))"
   ]
  },
  {
   "cell_type": "code",
   "execution_count": 22,
   "id": "aa1cb851-69cc-464d-a9cc-c1c2399f386c",
   "metadata": {},
   "outputs": [
    {
     "name": "stdout",
     "output_type": "stream",
     "text": [
      "Accuracy: 0.992899954\n"
     ]
    }
   ],
   "source": [
    "with torch.no_grad():\n",
    "    X_test = test_data.data.view(len(test_data), 1, 28, 28).float().to(device)\n",
    "    Y_test = test_data.targets.to(device)\n",
    "\n",
    "    prediction = model(X_test)\n",
    "    correct_prediction = torch.argmax(prediction, 1) == Y_test\n",
    "    accuracy = correct_prediction.float().mean()\n",
    "    print('Accuracy:', round(accuracy.item(), 9))"
   ]
  },
  {
   "cell_type": "code",
   "execution_count": null,
   "id": "2d0f654a-3016-47fc-a2ec-2d6e7dfdcf39",
   "metadata": {},
   "outputs": [],
   "source": []
  },
  {
   "cell_type": "code",
   "execution_count": null,
   "id": "fe53f73b-d17c-4fd2-9915-0493dcb4764c",
   "metadata": {},
   "outputs": [],
   "source": []
  }
 ],
 "metadata": {
  "kernelspec": {
   "display_name": "Python 3 (ipykernel)",
   "language": "python",
   "name": "python3"
  },
  "language_info": {
   "codemirror_mode": {
    "name": "ipython",
    "version": 3
   },
   "file_extension": ".py",
   "mimetype": "text/x-python",
   "name": "python",
   "nbconvert_exporter": "python",
   "pygments_lexer": "ipython3",
   "version": "3.9.12"
  }
 },
 "nbformat": 4,
 "nbformat_minor": 5
}
